{
 "cells": [
  {
   "cell_type": "code",
   "execution_count": null,
   "metadata": {
    "collapsed": true
   },
   "outputs": [],
   "source": [
    "from math import log, pi\n",
    "import astropy.coordinates as coord\n",
    "from astropy.constants import G as _G\n",
    "import astropy.units as u\n",
    "import numpy as np\n",
    "import matplotlib.pyplot as plt\n",
    "plt.style.use('apw-notebook')\n",
    "%matplotlib inline\n",
    "import emcee\n",
    "\n",
    "from gala.units import UnitSystem\n",
    "import gala.potential as gp\n",
    "\n",
    "import starfish"
   ]
  },
  {
   "cell_type": "code",
   "execution_count": null,
   "metadata": {
    "collapsed": true
   },
   "outputs": [],
   "source": [
    "units = UnitSystem(u.milliparsec, u.yr, u.Msun, u.radian)"
   ]
  },
  {
   "cell_type": "code",
   "execution_count": null,
   "metadata": {
    "collapsed": true
   },
   "outputs": [],
   "source": [
    "G = units.decompose(_G).value"
   ]
  },
  {
   "cell_type": "code",
   "execution_count": null,
   "metadata": {
    "collapsed": true
   },
   "outputs": [],
   "source": [
    "def log_df(_E, M, a):\n",
    "    E = _E*a / (G*M)\n",
    "    A = 0.5*log(2.) + 3*log(2*pi) + 1.5*log(G*M*a)\n",
    "    term1 = 0.5*np.log(E) - 2*np.log(1-E)\n",
    "    term2 = np.log((1-2*E)*(8*E**2-8*E-3) + 3*np.arcsin(np.sqrt(E))/np.sqrt(E*(1-E)))\n",
    "    return term1 + term2 - A\n",
    "\n",
    "def E_circ(r, M, a):\n",
    "    \"\"\" Energy of a circular orbit at r \"\"\"\n",
    "    return G*M / (r+a) * (1 - r/(2*(r+a)))\n",
    "\n",
    "def v_circ(r, M, a):\n",
    "    \"\"\" Energy of a circular orbit at r \"\"\"\n",
    "    return np.sqrt(G*M * r / (r+a)**2)\n",
    "\n",
    "def M_enc(r, M, a):\n",
    "    return M * r**2 / (r+a)**2\n",
    "\n",
    "def r_max(E, M, a):\n",
    "    return G*M/E - a\n",
    "\n",
    "def rv_to_E(r, v, M, a):\n",
    "    return G*M/(r+a) - 0.5*v**2\n",
    "\n",
    "def sample_r(a, r_min=0, r_max=1E20, size=1):\n",
    "    uu = np.random.uniform(M_enc(r_min, 1., a), \n",
    "                           M_enc(r_max, 1., a),\n",
    "                           size=size)\n",
    "    \n",
    "    sgn = np.random.choice([-1,1], size=size)\n",
    "    # return a*np.sqrt(uu) / (1 + sgn*np.sqrt(uu))\n",
    "    r_m = a*np.sqrt(uu) / (1 - np.sqrt(uu))\n",
    "    # r_p = a*np.sqrt(uu) / (1 + np.sqrt(uu))\n",
    "    \n",
    "    return r_m"
   ]
  },
  {
   "cell_type": "code",
   "execution_count": null,
   "metadata": {},
   "outputs": [],
   "source": [
    "M = 1E6 # Msun\n",
    "a = 1. # mpc\n",
    "pot = gp.HernquistPotential(m=M*u.Msun, c=a*u.mpc, units=units)\n",
    "\n",
    "# Maximum energy to consider is that of a circular orbit at r = 0.001\n",
    "r_min = 1E-1\n",
    "max_E = E_circ(r_min, M, a)\n",
    "max_E / (G*M/a)"
   ]
  },
  {
   "cell_type": "code",
   "execution_count": null,
   "metadata": {},
   "outputs": [],
   "source": [
    "E = np.linspace(0, 1, 1024) * (G*M/a)\n",
    "\n",
    "fig,ax = plt.subplots(1, 1, figsize=(6,5))\n",
    "ax.set_xlim(0, 1.5)\n",
    "\n",
    "ax.plot(E / (G*M/a), np.exp(log_df(E, M, a) + 1.5*np.log(G*M/a)), marker='')\n",
    "ax.set_yscale('log')\n",
    "ax.set_ylim(1e-7, 1e4)\n",
    "\n",
    "ax.set_xlabel(r'$\\mathcal{E}/(GM/a)$')\n",
    "ax.set_ylabel(r'$\\log_{10}\\left[ (GMa)^{3/2} \\, f(\\mathcal{E}) \\right]$')"
   ]
  },
  {
   "cell_type": "markdown",
   "metadata": {},
   "source": [
    "# Sample from the DF using MCMC"
   ]
  },
  {
   "cell_type": "code",
   "execution_count": null,
   "metadata": {
    "collapsed": true
   },
   "outputs": [],
   "source": [
    "def lnprob(p, M, a):\n",
    "    ln_r, ln_v = p\n",
    "    r = np.exp(ln_r)\n",
    "    v = np.exp(ln_v)\n",
    "    \n",
    "    E = G*M/(r+a) - 0.5*v**2\n",
    "    \n",
    "    if not 0 < E < max_E:\n",
    "        return -np.inf\n",
    "    \n",
    "    df_ = log_df(E, M, a)\n",
    "    \n",
    "    if not np.isfinite(df_):\n",
    "        return -np.inf\n",
    "    \n",
    "    return df_ + 2*ln_r + 2*ln_v + ln_r + ln_v"
   ]
  },
  {
   "cell_type": "code",
   "execution_count": null,
   "metadata": {
    "collapsed": true
   },
   "outputs": [],
   "source": [
    "p0 = np.zeros((32, 2))\n",
    "p0[:,0] = np.random.normal(1., 0.1, size=p0.shape[0])\n",
    "p0[:,1] = v_circ(p0[:,0], M, a)\n",
    "p0 = np.log(p0)"
   ]
  },
  {
   "cell_type": "code",
   "execution_count": null,
   "metadata": {
    "collapsed": true
   },
   "outputs": [],
   "source": [
    "sampler = emcee.EnsembleSampler(nwalkers=p0.shape[0], dim=2, \n",
    "                                lnpostfn=lnprob, args=(M, a))"
   ]
  },
  {
   "cell_type": "code",
   "execution_count": null,
   "metadata": {},
   "outputs": [],
   "source": [
    "_ = sampler.run_mcmc(p0, 16384)"
   ]
  },
  {
   "cell_type": "code",
   "execution_count": null,
   "metadata": {},
   "outputs": [],
   "source": [
    "for dim in range(p0.shape[1]):\n",
    "    plt.figure()\n",
    "    for walker in sampler.chain[...,dim]:\n",
    "        plt.plot(walker, marker='', drawstyle='steps-mid', alpha=0.2)"
   ]
  },
  {
   "cell_type": "code",
   "execution_count": null,
   "metadata": {
    "collapsed": true
   },
   "outputs": [],
   "source": [
    "flatchain = np.vstack(sampler.chain[:,200::8])\n",
    "r_samples, v_samples = np.exp(flatchain.T)"
   ]
  },
  {
   "cell_type": "code",
   "execution_count": null,
   "metadata": {},
   "outputs": [],
   "source": [
    "bins = np.logspace(-2, 2.5, 64)\n",
    "bin_ctr = (bins[:-1] + bins[1:]) / 2.\n",
    "V = 4*np.pi*bin_ctr**2 * (bins[1:] - bins[:-1])\n",
    "\n",
    "H,_ = np.histogram(r_samples, bins)\n",
    "\n",
    "plt.plot(bin_ctr, H/V)\n",
    "plt.plot(bin_ctr, [pot.density([x,0,0.]).value[0] for x in bin_ctr])\n",
    "\n",
    "plt.xscale('log')\n",
    "plt.yscale('log')"
   ]
  },
  {
   "cell_type": "code",
   "execution_count": null,
   "metadata": {},
   "outputs": [],
   "source": [
    "E_samples = rv_to_E(r_samples, v_samples, M, a)\n",
    "plt.hist(E_samples, bins='auto');\n",
    "plt.xlabel(r'$\\mathcal{E}$')"
   ]
  },
  {
   "cell_type": "code",
   "execution_count": null,
   "metadata": {},
   "outputs": [],
   "source": [
    "plt.hist(v_samples, bins='auto');\n",
    "plt.xlabel('$v$')"
   ]
  },
  {
   "cell_type": "markdown",
   "metadata": {},
   "source": [
    "## Now get 3D coordinates assuming isotropy:"
   ]
  },
  {
   "cell_type": "code",
   "execution_count": null,
   "metadata": {},
   "outputs": [],
   "source": [
    "# further downsample:\n",
    "r_subset = r_samples[::32]\n",
    "v_subset = v_samples[::32]\n",
    "\n",
    "w0 = starfish.rv_to_3d_isotropic(r_subset*units['length'], \n",
    "                                 v_subset*units['speed'])\n",
    "\n",
    "w = pot.integrate_orbit(w0, dt=0.1, n_steps=4000)\n",
    "w = w[-1].represent_as(coord.PhysicsSphericalRepresentation)"
   ]
  },
  {
   "cell_type": "markdown",
   "metadata": {},
   "source": [
    "Compare initial and final density profile:"
   ]
  },
  {
   "cell_type": "code",
   "execution_count": null,
   "metadata": {},
   "outputs": [],
   "source": [
    "Hi,_ = np.histogram(r_subset, bins)\n",
    "Hf,_ = np.histogram(w.r.value, bins)\n",
    "\n",
    "plt.plot(bin_ctr, [pot.density([x,0,0.]).value[0] for x in bin_ctr], marker='')\n",
    "plt.plot(bin_ctr, Hi/V, marker='', linestyle='--')\n",
    "plt.plot(bin_ctr, Hf/V, marker='', linestyle='--')\n",
    "\n",
    "plt.xscale('log')\n",
    "plt.yscale('log')"
   ]
  },
  {
   "cell_type": "code",
   "execution_count": null,
   "metadata": {
    "collapsed": true
   },
   "outputs": [],
   "source": []
  },
  {
   "cell_type": "code",
   "execution_count": null,
   "metadata": {
    "collapsed": true
   },
   "outputs": [],
   "source": []
  }
 ],
 "metadata": {
  "kernelspec": {
   "display_name": "Python [conda env:starfish]",
   "language": "python",
   "name": "conda-env-starfish-py"
  },
  "language_info": {
   "codemirror_mode": {
    "name": "ipython",
    "version": 3
   },
   "file_extension": ".py",
   "mimetype": "text/x-python",
   "name": "python",
   "nbconvert_exporter": "python",
   "pygments_lexer": "ipython3",
   "version": "3.6.2"
  }
 },
 "nbformat": 4,
 "nbformat_minor": 2
}