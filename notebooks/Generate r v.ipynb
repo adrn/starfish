{
 "cells": [
  {
   "cell_type": "code",
   "execution_count": null,
   "metadata": {
    "collapsed": true
   },
   "outputs": [],
   "source": [
    "import warnings\n",
    "from math import log\n",
    "\n",
    "import astropy.coordinates as coord\n",
    "from astropy.constants import G as _G\n",
    "import astropy.units as u\n",
    "import numpy as np\n",
    "import matplotlib.pyplot as plt\n",
    "plt.style.use('apw-notebook')\n",
    "%matplotlib inline\n",
    "from scipy.optimize import root\n",
    "import emcee\n",
    "\n",
    "import gala.potential as gp\n",
    "from gala.units import UnitSystem\n",
    "from scipy.special import loggamma\n",
    "\n",
    "import starfish"
   ]
  },
  {
   "cell_type": "code",
   "execution_count": null,
   "metadata": {
    "collapsed": true
   },
   "outputs": [],
   "source": [
    "units = UnitSystem(u.mpc, u.yr, u.Msun, u.rad)\n",
    "G = _G.decompose(units).value"
   ]
  },
  {
   "cell_type": "code",
   "execution_count": null,
   "metadata": {
    "collapsed": true
   },
   "outputs": [],
   "source": [
    "n_data = 512\n",
    "Mbh = 4E6\n",
    "gamma = 3.5\n",
    "a = 2. # mpc\n",
    "b = 1000. # mpc = 1 pc\n",
    "\n",
    "# Maximum energy to consider is that of a circular orbit at r = 2 mpc\n",
    "r_min = 2\n",
    "\n",
    "pot = gp.KeplerPotential(m=Mbh*units['mass'], units=units)"
   ]
  },
  {
   "cell_type": "code",
   "execution_count": null,
   "metadata": {},
   "outputs": [],
   "source": [
    "def density(r, gamma, a, b):\n",
    "    return a**gamma * r**-gamma\n",
    "\n",
    "def potential(r, Mbh):\n",
    "    return G*Mbh / r\n",
    "\n",
    "def rv_to_E(r, v, Mbh):\n",
    "    return -0.5*v**2 + potential(r, Mbh)\n",
    "\n",
    "def v_c(r, Mbh):\n",
    "    return np.sqrt(G * Mbh / r)\n",
    "\n",
    "def log_df(E, L, Mbh, gamma, beta):\n",
    "    g = gamma\n",
    "    \n",
    "    num = -2*beta*log(L) + (g - beta-1.5) * log(E) + beta*log(2)\n",
    "    den = 1.5*log(2*np.pi) + (g - 2*beta) * log(G*Mbh)\n",
    "    gams = loggamma(g - 2*beta + 1) - loggamma(g - beta - 0.5)\n",
    "\n",
    "    return (num - den + gams).real\n",
    "\n",
    "max_E = rv_to_E(r_min, v_c(r_min, Mbh), Mbh)\n",
    "max_E"
   ]
  },
  {
   "cell_type": "markdown",
   "metadata": {},
   "source": [
    "# Sample from the DF using MCMC"
   ]
  },
  {
   "cell_type": "code",
   "execution_count": null,
   "metadata": {
    "collapsed": true
   },
   "outputs": [],
   "source": [
    "def lnprob(p, Mbh, gamma):\n",
    "    ln_r, ln_v = p\n",
    "    r = np.exp(ln_r)\n",
    "    v = np.exp(ln_v)\n",
    "    \n",
    "    E = rv_to_E(r, v, Mbh)\n",
    "    \n",
    "    if not 0 < E < max_E:\n",
    "        return -np.inf\n",
    "    \n",
    "    if ln_r < log(r_min):\n",
    "        return -np.inf\n",
    "    \n",
    "    df_ = log_df(E, 1., Mbh, gamma, 0.) # HACK: isotropic\n",
    "    \n",
    "    if not np.isfinite(df_):\n",
    "        return -np.inf\n",
    "    \n",
    "    return df_ + 2*ln_r + 2*ln_v + ln_r + ln_v"
   ]
  },
  {
   "cell_type": "code",
   "execution_count": null,
   "metadata": {
    "collapsed": true
   },
   "outputs": [],
   "source": [
    "p0 = np.zeros((32, 2))\n",
    "p0[:,0] = np.random.normal(5., 0.1, size=p0.shape[0])\n",
    "p0[:,1] = v_c(p0[:,0], Mbh)\n",
    "p0 = np.log(p0)"
   ]
  },
  {
   "cell_type": "code",
   "execution_count": null,
   "metadata": {
    "collapsed": true
   },
   "outputs": [],
   "source": [
    "sampler = emcee.EnsembleSampler(nwalkers=p0.shape[0], dim=2, \n",
    "                                lnpostfn=lnprob, args=(Mbh, gamma))"
   ]
  },
  {
   "cell_type": "code",
   "execution_count": null,
   "metadata": {
    "collapsed": true
   },
   "outputs": [],
   "source": [
    "_ = sampler.run_mcmc(p0, 16384)"
   ]
  },
  {
   "cell_type": "code",
   "execution_count": null,
   "metadata": {},
   "outputs": [],
   "source": [
    "for dim in range(p0.shape[1]):\n",
    "    plt.figure()\n",
    "    for walker in sampler.chain[...,dim]:\n",
    "        plt.plot(walker, marker='', drawstyle='steps-mid', alpha=0.2)"
   ]
  },
  {
   "cell_type": "code",
   "execution_count": null,
   "metadata": {
    "collapsed": true
   },
   "outputs": [],
   "source": [
    "flatchain = np.vstack(sampler.chain[:,500::8])\n",
    "r_samples, v_samples = np.exp(flatchain.T)"
   ]
  },
  {
   "cell_type": "code",
   "execution_count": null,
   "metadata": {},
   "outputs": [],
   "source": [
    "bins = np.logspace(-1, 3, 64)\n",
    "bin_ctr = (bins[:-1] + bins[1:]) / 2.\n",
    "V = 4*np.pi*bin_ctr**2 * (bins[1:] - bins[:-1])\n",
    "\n",
    "H,_ = np.histogram(r_samples, bins)\n",
    "\n",
    "plt.plot(bin_ctr, H/V)\n",
    "plt.plot(bin_ctr, density(bin_ctr, gamma, r_min, bin_ctr.max()))\n",
    "plt.plot(bin_ctr, bin_ctr**-1.2)\n",
    "\n",
    "plt.xscale('log')\n",
    "plt.yscale('log')"
   ]
  },
  {
   "cell_type": "code",
   "execution_count": null,
   "metadata": {},
   "outputs": [],
   "source": [
    "plt.hist(v_samples, bins='auto');\n",
    "plt.xlabel('$v$')## Now get 3D coordinates assuming isotropy:"
   ]
  },
  {
   "cell_type": "markdown",
   "metadata": {},
   "source": [
    "## Now get 3D coordinates assuming isotropy:"
   ]
  },
  {
   "cell_type": "code",
   "execution_count": null,
   "metadata": {
    "collapsed": true
   },
   "outputs": [],
   "source": [
    "import gala.integrate as gi"
   ]
  },
  {
   "cell_type": "code",
   "execution_count": null,
   "metadata": {},
   "outputs": [],
   "source": [
    "# further downsample:\n",
    "r_subset = r_samples[::64]\n",
    "v_subset = v_samples[::64]\n",
    "\n",
    "w0 = starfish.rv_to_3d_isotropic(r_subset*units['length'], \n",
    "                                 v_subset*units['speed'])\n",
    "\n",
    "orbit = pot.integrate_orbit(w0, dt=1E-2, n_steps=10000,\n",
    "                            Integrator=gi.DOPRI853Integrator)\n",
    "w = orbit[-1].represent_as(coord.PhysicsSphericalRepresentation)"
   ]
  },
  {
   "cell_type": "code",
   "execution_count": null,
   "metadata": {},
   "outputs": [],
   "source": [
    "_ = orbit[:,1].plot()"
   ]
  },
  {
   "cell_type": "markdown",
   "metadata": {},
   "source": [
    "Compare initial and final density profile:"
   ]
  },
  {
   "cell_type": "code",
   "execution_count": null,
   "metadata": {
    "scrolled": true
   },
   "outputs": [],
   "source": [
    "Hi,_ = np.histogram(r_subset, bins)\n",
    "Hf,_ = np.histogram(w.r.value, bins)\n",
    "\n",
    "plt.plot(bin_ctr, density(bin_ctr, gamma, r_min, bin_ctr.max()))\n",
    "plt.plot(bin_ctr, Hi/V, marker='', linestyle='--')\n",
    "plt.plot(bin_ctr, Hf/V, marker='', linestyle='--')\n",
    "\n",
    "plt.xscale('log')\n",
    "plt.yscale('log')"
   ]
  },
  {
   "cell_type": "code",
   "execution_count": null,
   "metadata": {
    "collapsed": true
   },
   "outputs": [],
   "source": [
    "np.save('rv.npy', np.vstack((r_samples, v_samples)))"
   ]
  },
  {
   "cell_type": "markdown",
   "metadata": {
    "collapsed": true
   },
   "source": [
    "## Test emcee sample gamma"
   ]
  },
  {
   "cell_type": "code",
   "execution_count": null,
   "metadata": {
    "collapsed": true
   },
   "outputs": [],
   "source": [
    "def log_df_arr(E, L, Mbh, gamma, beta):\n",
    "    g = gamma\n",
    "    \n",
    "    num = -2*beta*np.log(L) + (g - beta - 1.5) * np.log(E) + beta*np.log(2)\n",
    "    den = 1.5*np.log(2*np.pi) + (g - 2*beta) * np.log(G*Mbh)\n",
    "    gams = loggamma(g - 2*beta + 1) - loggamma(g - beta - 0.5)\n",
    "\n",
    "    return (num - den + gams).real\n",
    "\n",
    "def lnprob_gamma(p, Mbh, r, v):\n",
    "    gamma = p[0]\n",
    "    \n",
    "    E = rv_to_E(r, v, Mbh)\n",
    "    \n",
    "    if not 0.5 < gamma < 5.:\n",
    "        return -np.inf\n",
    "    \n",
    "    df_ = log_df_arr(E, 1., Mbh, gamma, 0.) # HACK: isotropic\n",
    "    \n",
    "    if not np.all(np.isfinite(df_)):\n",
    "        return -np.inf\n",
    "    \n",
    "    return np.sum(df_ + 2*np.log(r) + 2*np.log(v))"
   ]
  },
  {
   "cell_type": "code",
   "execution_count": null,
   "metadata": {
    "collapsed": true
   },
   "outputs": [],
   "source": [
    "p0 = np.zeros((32, 1))\n",
    "p0[:,0] = np.random.normal(gamma, 0.1, size=p0.shape[0])"
   ]
  },
  {
   "cell_type": "code",
   "execution_count": null,
   "metadata": {
    "collapsed": true
   },
   "outputs": [],
   "source": [
    "sampler = emcee.EnsembleSampler(nwalkers=p0.shape[0], dim=p0.shape[1], \n",
    "                                lnpostfn=lnprob_gamma, args=(Mbh, r_samples[:64], v_samples[:64]))"
   ]
  },
  {
   "cell_type": "code",
   "execution_count": null,
   "metadata": {},
   "outputs": [],
   "source": [
    "_ = sampler.run_mcmc(p0, 1024)"
   ]
  },
  {
   "cell_type": "code",
   "execution_count": null,
   "metadata": {},
   "outputs": [],
   "source": [
    "for dim in range(p0.shape[1]):\n",
    "    plt.figure()\n",
    "    for walker in sampler.chain[...,dim]:\n",
    "        plt.plot(walker, marker='', drawstyle='steps-mid', alpha=0.2)"
   ]
  },
  {
   "cell_type": "code",
   "execution_count": null,
   "metadata": {
    "collapsed": true
   },
   "outputs": [],
   "source": []
  },
  {
   "cell_type": "code",
   "execution_count": null,
   "metadata": {
    "collapsed": true
   },
   "outputs": [],
   "source": []
  }
 ],
 "metadata": {
  "kernelspec": {
   "display_name": "Python [conda env:starfish]",
   "language": "python",
   "name": "conda-env-starfish-py"
  },
  "language_info": {
   "codemirror_mode": {
    "name": "ipython",
    "version": 3
   },
   "file_extension": ".py",
   "mimetype": "text/x-python",
   "name": "python",
   "nbconvert_exporter": "python",
   "pygments_lexer": "ipython3",
   "version": "3.6.2"
  }
 },
 "nbformat": 4,
 "nbformat_minor": 2
}