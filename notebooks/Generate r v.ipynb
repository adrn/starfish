{
 "cells": [
  {
   "cell_type": "markdown",
   "metadata": {},
   "source": [
    "Look at uncluster/Hernquist df\n",
    "\n",
    "Need to sample tracer positions to follow power-law, then sample velocities from conditional distribution."
   ]
  },
  {
   "cell_type": "code",
   "execution_count": null,
   "metadata": {
    "collapsed": true
   },
   "outputs": [],
   "source": [
    "import warnings\n",
    "\n",
    "from astropy.constants import G as _G\n",
    "import astropy.units as u\n",
    "import numpy as np\n",
    "import matplotlib.pyplot as plt\n",
    "plt.style.use('apw-notebook')\n",
    "%matplotlib inline\n",
    "from scipy.optimize import root\n",
    "import emcee\n",
    "from gala.units import UnitSystem\n",
    "from scipy.special import loggamma"
   ]
  },
  {
   "cell_type": "code",
   "execution_count": null,
   "metadata": {
    "collapsed": true
   },
   "outputs": [],
   "source": [
    "units = UnitSystem(u.mpc, u.yr, u.Msun, u.rad)\n",
    "G = _G.decompose(units).value"
   ]
  },
  {
   "cell_type": "code",
   "execution_count": null,
   "metadata": {
    "collapsed": true
   },
   "outputs": [],
   "source": [
    "def density(r, gamma, a, b):\n",
    "    return a**gamma * r**-gamma\n",
    "\n",
    "def cdf(r, gamma, a, b):\n",
    "    \"\"\"CDF corresponding to the power-law density profile of tracers\"\"\"\n",
    "    gg = 3 - gamma\n",
    "    A = (b**gg - a**gg)**-1\n",
    "    return A * (r**gg - a**gg)"
   ]
  },
  {
   "cell_type": "code",
   "execution_count": null,
   "metadata": {
    "collapsed": true
   },
   "outputs": [],
   "source": [
    "def sample_radii(cdf_func, size=1, a=0., b=np.inf, cdf_args=()):\n",
    "    args = cdf_args + (a, b)\n",
    "    def root_func(r, m):\n",
    "        return m - cdf_func(float(r), *args)\n",
    "    \n",
    "    ms = np.random.uniform(0, 1, size=size)\n",
    "    rs = []\n",
    "    for m in ms:\n",
    "        res = root(root_func, 1., args=(m,))\n",
    "        rs.append(res.x[0])\n",
    "        \n",
    "    return np.array(rs)"
   ]
  },
  {
   "cell_type": "code",
   "execution_count": null,
   "metadata": {
    "collapsed": true
   },
   "outputs": [],
   "source": [
    "n_data = 512\n",
    "Mbh = 4E6\n",
    "gamma = 3.5\n",
    "a = 2. # mpc\n",
    "b = 1000. # mpc = 1 pc"
   ]
  },
  {
   "cell_type": "code",
   "execution_count": null,
   "metadata": {
    "collapsed": true
   },
   "outputs": [],
   "source": [
    "r = sample_radii(cdf, size=10000, a=a, b=b, cdf_args=(gamma,))"
   ]
  },
  {
   "cell_type": "code",
   "execution_count": null,
   "metadata": {
    "collapsed": true
   },
   "outputs": [],
   "source": [
    "bins = np.logspace(-3, 3, 32)\n",
    "H,_ = np.histogram(r, bins=bins)\n",
    "\n",
    "V = 4/3*np.pi*(bins[1:]**3 - bins[:-1]**3)\n",
    "bin_cen = (bins[1:]+bins[:-1])/2.\n",
    "\n",
    "q = np.zeros((3,len(bin_cen)))\n",
    "q[0] = bin_cen\n",
    "\n",
    "fig,ax = plt.subplots(1, 1, figsize=(7,7))\n",
    "ax.plot(bin_cen, density(bin_cen, gamma, a, b), \n",
    "         marker='', lw=2., ls='--')\n",
    "\n",
    "ax.loglog(bin_cen, H/V/r.size, marker='')\n",
    "\n",
    "ax.set_xlabel('$r$')\n",
    "ax.set_ylabel('$n(r)$')"
   ]
  },
  {
   "cell_type": "code",
   "execution_count": null,
   "metadata": {
    "collapsed": true
   },
   "outputs": [],
   "source": [
    "from math import log\n",
    "\n",
    "def potential(r, Mbh):\n",
    "    return G*Mbh / r\n",
    "\n",
    "def rv_to_E(r, v, Mbh):\n",
    "    return -0.5*v**2 + potential(r, Mbh)\n",
    "\n",
    "def v_c(r, Mbh):\n",
    "    return np.sqrt(G * Mbh / r)\n",
    "\n",
    "def log_df(E, L, Mbh, gamma, beta):\n",
    "    g = gamma\n",
    "    \n",
    "    num = -2*beta*log(L) + (g - beta-1.5) * log(E) + beta*log(2)\n",
    "    den = 1.5*log(2*np.pi) + (g - 2*beta) * log(G*Mbh)\n",
    "    gams = loggamma(g - 2*beta + 1) - loggamma(g - beta - 0.5)\n",
    "\n",
    "    return (num - den + gams).real"
   ]
  },
  {
   "cell_type": "code",
   "execution_count": null,
   "metadata": {
    "collapsed": true
   },
   "outputs": [],
   "source": [
    "def ln_vel_dist(p, r, Mbh, gamma):\n",
    "    # HACK: IGNORE ANISOTROPY FOR NOW\n",
    "    L = 1.\n",
    "    beta = 0.\n",
    "    \n",
    "    v = p[0]\n",
    "    if v <= 0.:\n",
    "        return -np.inf\n",
    "    \n",
    "    E = rv_to_E(r, v, Mbh)\n",
    "    if E < 0:\n",
    "        return -np.inf\n",
    "    \n",
    "    return 2*log(v) + log_df(E, L, Mbh, gamma, beta)"
   ]
  },
  {
   "cell_type": "code",
   "execution_count": null,
   "metadata": {
    "collapsed": true
   },
   "outputs": [],
   "source": [
    "nwalkers = 32\n",
    "v = np.zeros(n_data)\n",
    "\n",
    "with warnings.catch_warnings():\n",
    "    warnings.filterwarnings('error')\n",
    "    \n",
    "    for i in range(n_data):\n",
    "        p0 = np.abs(np.random.normal(1E-1, 1E-3, (nwalkers,1)))\n",
    "        sampler = emcee.EnsembleSampler(nwalkers=nwalkers, dim=1, \n",
    "                                        lnpostfn=ln_vel_dist, args=(r[i], Mbh, gamma))\n",
    "        \n",
    "        try:\n",
    "            _ = sampler.run_mcmc(p0, 256)\n",
    "        except Warning:\n",
    "            print(\"Failed!\", i)\n",
    "            break\n",
    "        v[i] = sampler.chain[0,-1,0]"
   ]
  },
  {
   "cell_type": "code",
   "execution_count": null,
   "metadata": {
    "collapsed": true
   },
   "outputs": [],
   "source": [
    "# for walker in sampler.chain[...,0]:\n",
    "#     plt.plot(walker, marker='', drawstyle='steps', alpha=0.1)"
   ]
  },
  {
   "cell_type": "code",
   "execution_count": null,
   "metadata": {
    "collapsed": true
   },
   "outputs": [],
   "source": [
    "# S2 (star in GC) has this velocity-ish\n",
    "((2*np.pi*980*u.au) / (15*u.yr)).to(u.mpc/u.yr)"
   ]
  },
  {
   "cell_type": "code",
   "execution_count": null,
   "metadata": {
    "collapsed": true
   },
   "outputs": [],
   "source": [
    "np.save('rv.npy', np.vstack((r[:n_data],v)))"
   ]
  },
  {
   "cell_type": "code",
   "execution_count": null,
   "metadata": {
    "collapsed": true
   },
   "outputs": [],
   "source": []
  }
 ],
 "metadata": {
  "kernelspec": {
   "display_name": "Python [default]",
   "language": "python",
   "name": "python3"
  },
  "language_info": {
   "codemirror_mode": {
    "name": "ipython",
    "version": 3
   },
   "file_extension": ".py",
   "mimetype": "text/x-python",
   "name": "python",
   "nbconvert_exporter": "python",
   "pygments_lexer": "ipython3",
   "version": "3.6.1"
  }
 },
 "nbformat": 4,
 "nbformat_minor": 2
}