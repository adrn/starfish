{
 "cells": [
  {
   "cell_type": "code",
   "execution_count": null,
   "metadata": {},
   "outputs": [],
   "source": [
    "import os\n",
    "\n",
    "# Third-party\n",
    "from astropy.table import Table\n",
    "import astropy.coordinates as coord\n",
    "from astropy.constants import G as _G\n",
    "import astropy.units as u\n",
    "import matplotlib as mpl\n",
    "import matplotlib.pyplot as plt\n",
    "import numpy as np\n",
    "plt.style.use('apw-notebook')\n",
    "%matplotlib inline\n",
    "from scipy.special import loggamma\n",
    "from gala.units import UnitSystem\n",
    "\n",
    "import pystan\n",
    "from stderr_helper import suppress_stdout_stderr"
   ]
  },
  {
   "cell_type": "markdown",
   "metadata": {},
   "source": [
    "Make some fake data\n",
    "\n",
    "Tracer density:\n",
    "$$\n",
    "\\nu(r) = \\nu_0 \\, r^{-\\gamma} \\\\\n",
    "\\int \\nu(r) \\, r^2 \\, {\\rm d}r\n",
    "$$\n",
    "\n",
    "Background potential is Keplerian\n",
    "$$\n",
    "v_c(r) = \\sqrt{\\frac{G M}{r}}\n",
    "$$\n",
    "\n",
    "I'm going to work in some crazy-ass units:"
   ]
  },
  {
   "cell_type": "code",
   "execution_count": null,
   "metadata": {
    "collapsed": true
   },
   "outputs": [],
   "source": [
    "units = UnitSystem(u.mpc, u.yr, u.Msun, u.rad)\n",
    "G = _G.decompose(units).value"
   ]
  },
  {
   "cell_type": "code",
   "execution_count": null,
   "metadata": {},
   "outputs": [],
   "source": [
    "true_gamma = 2.5\n",
    "true_Mbh = 4E6 # Msun"
   ]
  },
  {
   "cell_type": "code",
   "execution_count": null,
   "metadata": {
    "collapsed": true
   },
   "outputs": [],
   "source": [
    "def potential(r, Mbh):\n",
    "    return G*Mbh / r\n",
    "\n",
    "def rv_to_E(r, v, Mbh):\n",
    "    return -0.5*v**2 + potential(r, Mbh)\n",
    "\n",
    "def v_c(r, Mbh):\n",
    "    return np.sqrt(G * Mbh / r)\n",
    "\n",
    "def log_df(E, Mbh, g):\n",
    "    E = np.atleast_1d(E)\n",
    "    term1 = (g - 3/2.)*np.log(E) - 0.5*np.log(8*np.pi**3) - g*np.log(G * Mbh)\n",
    "    term2 = loggamma(g + 1) - loggamma(g - 0.5)\n",
    "    res = term1 + term2\n",
    "    res[E <= 0] = -np.inf\n",
    "    return res.real"
   ]
  },
  {
   "cell_type": "code",
   "execution_count": null,
   "metadata": {
    "collapsed": true
   },
   "outputs": [],
   "source": [
    "from math import log, exp\n",
    "import emcee\n",
    "\n",
    "def log_f(p, Mbh, gamma):\n",
    "    log_r, log_v = p\n",
    "    r = exp(log_r)\n",
    "    v = exp(log_v)\n",
    "    E = -0.5*v**2 + G*Mbh/r\n",
    "    \n",
    "    if E < 0 or log_r > 5 or log_r < -6:\n",
    "        return -np.inf\n",
    "    \n",
    "    return (gamma - 1.5)*log(E) + log(r) + log(v) # + 2*log(r) + 2*log(v)"
   ]
  },
  {
   "cell_type": "code",
   "execution_count": null,
   "metadata": {},
   "outputs": [],
   "source": [
    "sampler = emcee.EnsembleSampler(32, 2, log_f, args=(true_Mbh, true_gamma))\n",
    "p0 = np.log(np.random.uniform(0, 1, size=(32, 2)))\n",
    "assert np.all(np.isfinite([log_f(p0[i], true_Mbh, true_gamma) \n",
    "                           for i in range(len(p0))]))\n",
    "\n",
    "pos,_,_ = sampler.run_mcmc(p0, 4000)\n",
    "sampler.reset()\n",
    "_ = sampler.run_mcmc(p0, 4000)"
   ]
  },
  {
   "cell_type": "code",
   "execution_count": null,
   "metadata": {},
   "outputs": [],
   "source": [
    "for dim in range(sampler.chain.shape[-1]):\n",
    "    plt.figure()\n",
    "    for walker in sampler.chain[...,dim]:\n",
    "        plt.plot(walker, marker='', drawstyle='steps-mid', alpha=0.25)"
   ]
  },
  {
   "cell_type": "code",
   "execution_count": null,
   "metadata": {},
   "outputs": [],
   "source": [
    "true_r, true_v = np.exp(np.vstack(sampler.chain[:,::64])).T"
   ]
  },
  {
   "cell_type": "code",
   "execution_count": null,
   "metadata": {},
   "outputs": [],
   "source": [
    "plt.hist(rv_to_E(true_r, true_v, true_Mbh), bins=np.logspace(-1, 4, 32));\n",
    "plt.xscale('log')"
   ]
  },
  {
   "cell_type": "code",
   "execution_count": null,
   "metadata": {},
   "outputs": [],
   "source": [
    "(true_r.min()*u.mpc).to(u.au)"
   ]
  },
  {
   "cell_type": "code",
   "execution_count": null,
   "metadata": {},
   "outputs": [],
   "source": [
    "(true_v.max()*u.mpc/u.yr).to(u.km/u.s)"
   ]
  },
  {
   "cell_type": "code",
   "execution_count": null,
   "metadata": {},
   "outputs": [],
   "source": [
    "fig,axes = plt.subplots(1, 2, figsize=(10,5))\n",
    "\n",
    "axes[0].hist(true_r, bins=np.logspace(-3, 1, 32));\n",
    "axes[0].set_xscale('log')\n",
    "axes[0].set_yscale('log')\n",
    "\n",
    "axes[1].hist(true_v, bins=np.logspace(-3, 3, 32));\n",
    "axes[1].set_xscale('log')\n",
    "axes[1].set_yscale('log')"
   ]
  },
  {
   "cell_type": "code",
   "execution_count": null,
   "metadata": {
    "collapsed": true
   },
   "outputs": [],
   "source": [
    "n_data = 32\n",
    "\n",
    "r_err = np.full(n_data, 0.01)\n",
    "r = np.random.normal(true_r[:n_data], r_err)\n",
    "\n",
    "v_err = np.full(n_data, 0.01)\n",
    "v = np.random.normal(true_v[:n_data], v_err)"
   ]
  },
  {
   "cell_type": "code",
   "execution_count": null,
   "metadata": {},
   "outputs": [],
   "source": [
    "rv_to_E(r, v, true_Mbh), r, v"
   ]
  },
  {
   "cell_type": "code",
   "execution_count": null,
   "metadata": {
    "collapsed": true
   },
   "outputs": [],
   "source": [
    "data_dict = dict(r=r, r_err=r_err,\n",
    "                 v=v, v_err=v_err,\n",
    "                 N=n_data)"
   ]
  },
  {
   "cell_type": "code",
   "execution_count": null,
   "metadata": {
    "scrolled": false
   },
   "outputs": [],
   "source": [
    "sm = pystan.StanModel('simple_model.stan')"
   ]
  },
  {
   "cell_type": "code",
   "execution_count": null,
   "metadata": {},
   "outputs": [],
   "source": [
    "n_chains = 1\n",
    "# init_dict = [dict(true_r=r,\n",
    "#                   true_v=v,\n",
    "#                   Mbh=true_Mbh,\n",
    "# #                   phi0=50000.,\n",
    "# #                   gamma=true_gamma\n",
    "#                  )\n",
    "#              for _ in range(n_chains)]\n",
    "\n",
    "# HACK:\n",
    "n_data = 128\n",
    "data_dict = dict(true_r=true_r[:n_data], \n",
    "                 true_v=true_v[:n_data],\n",
    "                 N=n_data)\n",
    "\n",
    "init_dict = [dict(Mbh=true_Mbh,\n",
    "#                   phi0=50000.,\n",
    "#                   gamma=true_gamma\n",
    "                 )\n",
    "             for _ in range(n_chains)]"
   ]
  },
  {
   "cell_type": "code",
   "execution_count": null,
   "metadata": {},
   "outputs": [],
   "source": [
    "fit = sm.sampling(data=data_dict, algorithm='HMC', iter=32, init=init_dict, \n",
    "                  chains=n_chains, n_jobs=1)"
   ]
  },
  {
   "cell_type": "code",
   "execution_count": null,
   "metadata": {},
   "outputs": [],
   "source": [
    "with suppress_stdout_stderr():\n",
    "    fit = sm.sampling(data=data_dict, algorithm='HMC', iter=8192, init=init_dict, \n",
    "                      chains=n_chains, n_jobs=1)"
   ]
  },
  {
   "cell_type": "code",
   "execution_count": null,
   "metadata": {},
   "outputs": [],
   "source": [
    "_ = fit.traceplot('Mbh')"
   ]
  },
  {
   "cell_type": "code",
   "execution_count": null,
   "metadata": {},
   "outputs": [],
   "source": [
    "plot_pars = ['Mbh']# 'gamma']\n",
    "samples = fit.extract(plot_pars)\n",
    "\n",
    "plt.figure()\n",
    "plt.hist(samples['Mbh'], color='#666666') #, bins=np.logspace(4, 6, 32))\n",
    "plt.axvline(true_Mbh, color='r')\n",
    "# plt.xscale('log')\n",
    "\n",
    "# plt.figure()\n",
    "# plt.hist(samples['a_g'], color='#666666', bins=np.linspace(1, 30, 16))\n",
    "# plt.axvline(true_alpha/true_gamma, color='r')\n",
    "\n",
    "# plt.figure()\n",
    "# plt.hist(samples['gamma'], color='#666666', bins=np.linspace(0, 1, 12))\n",
    "# plt.axvline(true_gamma, color='r')"
   ]
  },
  {
   "cell_type": "code",
   "execution_count": null,
   "metadata": {
    "collapsed": true
   },
   "outputs": [],
   "source": []
  }
 ],
 "metadata": {
  "kernelspec": {
   "display_name": "Python [default]",
   "language": "python",
   "name": "python3"
  },
  "language_info": {
   "codemirror_mode": {
    "name": "ipython",
    "version": 3
   },
   "file_extension": ".py",
   "mimetype": "text/x-python",
   "name": "python",
   "nbconvert_exporter": "python",
   "pygments_lexer": "ipython3",
   "version": "3.5.2"
  }
 },
 "nbformat": 4,
 "nbformat_minor": 2
}