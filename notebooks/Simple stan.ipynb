{
 "cells": [
  {
   "cell_type": "code",
   "execution_count": null,
   "metadata": {
    "collapsed": true
   },
   "outputs": [],
   "source": [
    "import os\n",
    "\n",
    "# Third-party\n",
    "from astropy.table import Table\n",
    "import astropy.coordinates as coord\n",
    "from astropy.constants import G as _G\n",
    "import astropy.units as u\n",
    "import emcee\n",
    "import matplotlib as mpl\n",
    "import matplotlib.pyplot as plt\n",
    "import numpy as np\n",
    "plt.style.use('apw-notebook')\n",
    "%matplotlib inline\n",
    "from scipy.special import loggamma, gamma as Gamma\n",
    "from scipy.integrate import quad\n",
    "from gala.units import UnitSystem\n",
    "\n",
    "import pystan\n",
    "from stderr_helper import suppress_stdout_stderr"
   ]
  },
  {
   "cell_type": "markdown",
   "metadata": {},
   "source": [
    "Make some fake data\n",
    "\n",
    "Tracer density:\n",
    "$$\n",
    "\\nu(r) = \\nu_0 \\, r^{-\\gamma} \\\\\n",
    "\\int \\nu(r) \\, r^2 \\, {\\rm d}r\n",
    "$$\n",
    "\n",
    "Background potential is Keplerian\n",
    "$$\n",
    "v_c(r) = \\sqrt{\\frac{G M}{r}}\n",
    "$$\n",
    "\n",
    "I'm going to work in some crazy-ass units:"
   ]
  },
  {
   "cell_type": "code",
   "execution_count": null,
   "metadata": {
    "collapsed": true
   },
   "outputs": [],
   "source": [
    "units = UnitSystem(u.mpc, u.yr, u.Msun, u.rad)\n",
    "G = _G.decompose(units).value"
   ]
  },
  {
   "cell_type": "code",
   "execution_count": null,
   "metadata": {
    "collapsed": true
   },
   "outputs": [],
   "source": [
    "n_data = 64\n",
    "Mbh = 4E6\n",
    "gamma = 3.5\n",
    "a = 2. # mpc\n",
    "b = 1000. # mpc = 1 pc"
   ]
  },
  {
   "cell_type": "code",
   "execution_count": null,
   "metadata": {},
   "outputs": [],
   "source": [
    "true_r, true_v = np.load('rv.npy')[:,:n_data]"
   ]
  },
  {
   "cell_type": "code",
   "execution_count": null,
   "metadata": {
    "collapsed": true
   },
   "outputs": [],
   "source": [
    "r_err = np.full(n_data, 0.01)\n",
    "r = np.random.normal(true_r, r_err)\n",
    "\n",
    "v_err = np.full(n_data, 0.01)\n",
    "v = np.random.normal(true_v, v_err)"
   ]
  },
  {
   "cell_type": "markdown",
   "metadata": {},
   "source": [
    "## Test with `emcee`\n",
    "\n",
    "First, let's implement a simplified version of the model to use `emcee` to do the sampling in `Mbh`, `gamma`, `beta`:"
   ]
  },
  {
   "cell_type": "code",
   "execution_count": null,
   "metadata": {
    "collapsed": true
   },
   "outputs": [],
   "source": [
    "def rel_potential(r, Mbh):\n",
    "    return G*Mbh/r\n",
    "\n",
    "def rv_to_E(r, v, Mbh):\n",
    "    return -0.5*v**2 + G*Mbh/r\n",
    "\n",
    "def log_df(E, L, Mbh, gamma, beta):\n",
    "    g = gamma\n",
    "    \n",
    "    num = -2*beta*np.log(L) + (g - beta-1.5) * np.log(E) + beta*np.log(2)\n",
    "    den = 1.5*np.log(2*np.pi) + (g - 2*beta) * np.log(G*Mbh)\n",
    "    gams = loggamma(g - 2*beta + 1) - loggamma(g - beta - 0.5)\n",
    "\n",
    "    return (num - den + gams).real\n",
    "\n",
    "# def df(E, L, Mbh, gamma, beta):\n",
    "#     num = L**(-2*beta) * E**(gamma - beta - 1.5)\n",
    "#     den = np.sqrt(8*np.pi**3 * 2**(-2*beta)) * (G*Mbh)**(gamma-2*beta)\n",
    "#     gams = Gamma(gamma - 2*beta + 1) / Gamma(gamma - beta - 0.5)\n",
    "#     return num/den*gams"
   ]
  },
  {
   "cell_type": "code",
   "execution_count": null,
   "metadata": {},
   "outputs": [],
   "source": [
    "from math import exp, log\n",
    "\n",
    "def func(v, r, Mbh, gamma):\n",
    "    E = rv_to_E(r, v, Mbh)\n",
    "    if E <= 0 or v <= 0:\n",
    "        return 0\n",
    "    return exp(log_df(E, 1., Mbh, gamma, 0) + 2*log(v))\n",
    "\n",
    "# vs = np.linspace(0, 32, 1024)\n",
    "# plt.plot(vs, [func(v, 1., Mbh, gamma) for v in vs])\n",
    "\n",
    "rs = np.logspace(-3, 2, 128)\n",
    "dens = []\n",
    "for r in rs:\n",
    "    val,_ = quad(func, a=0, b=np.inf, args=(r, Mbh, gamma))\n",
    "    dens.append(val)"
   ]
  },
  {
   "cell_type": "code",
   "execution_count": null,
   "metadata": {},
   "outputs": [],
   "source": [
    "plt.figure(figsize=(6,6))\n",
    "plt.loglog(rs, dens)\n",
    "plt.loglog(rs, rs**-3.5)"
   ]
  },
  {
   "cell_type": "code",
   "execution_count": null,
   "metadata": {
    "collapsed": true
   },
   "outputs": [],
   "source": []
  },
  {
   "cell_type": "code",
   "execution_count": null,
   "metadata": {
    "collapsed": true
   },
   "outputs": [],
   "source": []
  },
  {
   "cell_type": "code",
   "execution_count": null,
   "metadata": {},
   "outputs": [],
   "source": [
    "class Model:\n",
    "    \n",
    "    parameters = ['Mbh', 'gamma', 'beta']\n",
    "    \n",
    "    def __init__(self, r, v, **kw):\n",
    "        \n",
    "        frozen = dict()\n",
    "        for name in self.parameters:\n",
    "            val = kw.get(name)\n",
    "            if val is not None:\n",
    "                frozen[name] = val\n",
    "        self.frozen = frozen\n",
    "        \n",
    "        self.r = r\n",
    "        self.v = v\n",
    "        self._jac =  2*np.log(self.r) + 2*np.log(self.v)\n",
    "        \n",
    "    def pack(self, **kwargs):\n",
    "        vec = [kwargs.get(name, self.frozen.get(name)) \n",
    "               for name in self.parameters]\n",
    "        return np.array(vec)\n",
    "    \n",
    "    def unpack(self, vec):\n",
    "        pars = dict()\n",
    "        \n",
    "        i = 0\n",
    "        for name in self.parameters:\n",
    "            if name in self.frozen:\n",
    "                pars[name] = self.frozen[name]\n",
    "            \n",
    "            else:\n",
    "                pars[name] = vec[i]\n",
    "                i += 1\n",
    "        \n",
    "        return pars\n",
    "    \n",
    "    def ln_likelihood(self, **pars):\n",
    "        E = rv_to_E(self.r, self.v, pars['Mbh'])\n",
    "        L = 1. # HACK\n",
    "        \n",
    "        val = log_df(E, L, pars['Mbh'], pars['gamma'], pars['beta'])\n",
    "        \n",
    "#         jac = 2*np.log(self.r) + 2*log(true_v[n]);\n",
    "        jac = self._jac # HACK\n",
    "        \n",
    "        val += jac \n",
    "        \n",
    "        return val\n",
    "    \n",
    "    def ln_prior(self, **pars):\n",
    "        if pars['Mbh'] < 1E6 or pars['Mbh'] > 1E7:\n",
    "            return -np.inf\n",
    "        \n",
    "        if pars['gamma'] < 0.5 or pars['gamma'] > 5.:\n",
    "            return -np.inf\n",
    "        \n",
    "        return 0.\n",
    "        \n",
    "    def ln_posterior(self, **pars):\n",
    "        lp = self.ln_prior(**pars)\n",
    "        if not np.isfinite(lp):\n",
    "            return -np.inf\n",
    "        \n",
    "        ll = self.ln_likelihood(**pars)\n",
    "        if np.any(np.logical_not(np.isfinite(ll))):\n",
    "            return -np.inf\n",
    "        \n",
    "        return lp + ll.sum()\n",
    "        \n",
    "    def __call__(self, p):\n",
    "        pars = self.unpack(p)\n",
    "        return self.ln_posterior(**pars)"
   ]
  },
  {
   "cell_type": "code",
   "execution_count": null,
   "metadata": {
    "collapsed": true
   },
   "outputs": [],
   "source": [
    "model = Model(r=true_r, v=true_v, beta=0.)"
   ]
  },
  {
   "cell_type": "code",
   "execution_count": null,
   "metadata": {},
   "outputs": [],
   "source": [
    "gs = np.linspace(0.5, 4.5, 64)\n",
    "lls = []\n",
    "for g in gs:\n",
    "    lls.append(model.ln_likelihood(Mbh=4E6, gamma=g, beta=0.).sum())\n",
    "    \n",
    "plt.plot(gs, lls)"
   ]
  },
  {
   "cell_type": "code",
   "execution_count": null,
   "metadata": {},
   "outputs": [],
   "source": [
    "n_walkers = 32\n",
    "\n",
    "p0 = np.zeros((32, 2))\n",
    "p0[:,0] = np.random.normal(5E6, 1E4, n_walkers)\n",
    "p0[:,1] = np.random.uniform(3., 5, n_walkers)\n",
    "\n",
    "sampler = emcee.EnsembleSampler(n_walkers, p0.shape[1], model)\n",
    "pos,_,_ = sampler.run_mcmc(p0, 1000)\n",
    "sampler.reset()\n",
    "_ = sampler.run_mcmc(pos, 4000)"
   ]
  },
  {
   "cell_type": "code",
   "execution_count": null,
   "metadata": {},
   "outputs": [],
   "source": [
    "for dim in range(sampler.chain.shape[-1]):\n",
    "    plt.figure()\n",
    "    for walker in sampler.chain[...,dim]:\n",
    "        plt.plot(walker, marker='', drawstyle='steps', alpha=0.2)"
   ]
  },
  {
   "cell_type": "code",
   "execution_count": null,
   "metadata": {
    "collapsed": true
   },
   "outputs": [],
   "source": []
  },
  {
   "cell_type": "markdown",
   "metadata": {},
   "source": [
    "---\n",
    "\n",
    "## Now with Stan"
   ]
  },
  {
   "cell_type": "code",
   "execution_count": null,
   "metadata": {},
   "outputs": [],
   "source": [
    "data_dict = dict(r=r, r_err=r_err,\n",
    "                 v=v, v_err=v_err,\n",
    "                 N=n_data)"
   ]
  },
  {
   "cell_type": "code",
   "execution_count": null,
   "metadata": {
    "scrolled": false
   },
   "outputs": [],
   "source": [
    "sm = pystan.StanModel('simple_model.stan')"
   ]
  },
  {
   "cell_type": "code",
   "execution_count": null,
   "metadata": {
    "collapsed": true
   },
   "outputs": [],
   "source": [
    "n_chains = 1\n",
    "# init_dict = [dict(true_r=r,\n",
    "#                   true_v=v,\n",
    "#                   Mbh=true_Mbh,\n",
    "# #                   phi0=50000.,\n",
    "# #                   gamma=true_gamma\n",
    "#                  )\n",
    "#              for _ in range(n_chains)]\n",
    "\n",
    "data_dict = dict(true_r=true_r[:n_data], \n",
    "                 true_v=true_v[:n_data],\n",
    "                 N=n_data)\n",
    "\n",
    "init_dict = [dict(Mbh=Mbh,\n",
    "                  gamma=gamma\n",
    "                 )\n",
    "             for _ in range(n_chains)]"
   ]
  },
  {
   "cell_type": "code",
   "execution_count": null,
   "metadata": {
    "collapsed": true
   },
   "outputs": [],
   "source": [
    "fit = sm.sampling(data=data_dict, algorithm='HMC', iter=32, init=init_dict, \n",
    "                  chains=n_chains, n_jobs=1)"
   ]
  },
  {
   "cell_type": "code",
   "execution_count": null,
   "metadata": {
    "collapsed": true
   },
   "outputs": [],
   "source": [
    "with suppress_stdout_stderr():\n",
    "    fit = sm.sampling(data=data_dict, algorithm='HMC', iter=8192, init=init_dict, \n",
    "                      chains=n_chains, n_jobs=1)"
   ]
  },
  {
   "cell_type": "code",
   "execution_count": null,
   "metadata": {},
   "outputs": [],
   "source": [
    "_ = fit.traceplot('Mbh')"
   ]
  },
  {
   "cell_type": "code",
   "execution_count": null,
   "metadata": {},
   "outputs": [],
   "source": [
    "plot_pars = ['Mbh']# 'gamma']\n",
    "samples = fit.extract(plot_pars)\n",
    "\n",
    "plt.figure()\n",
    "plt.hist(samples['Mbh'], color='#666666') #, bins=np.logspace(4, 6, 32))\n",
    "plt.axvline(Mbh, color='r')\n",
    "# plt.xscale('log')\n",
    "\n",
    "# plt.figure()\n",
    "# plt.hist(samples['a_g'], color='#666666', bins=np.linspace(1, 30, 16))\n",
    "# plt.axvline(true_alpha/true_gamma, color='r')\n",
    "\n",
    "# plt.figure()\n",
    "# plt.hist(samples['gamma'], color='#666666', bins=np.linspace(0, 1, 12))\n",
    "# plt.axvline(true_gamma, color='r')"
   ]
  },
  {
   "cell_type": "code",
   "execution_count": null,
   "metadata": {
    "collapsed": true
   },
   "outputs": [],
   "source": []
  }
 ],
 "metadata": {
  "kernelspec": {
   "display_name": "Python [default]",
   "language": "python",
   "name": "python3"
  },
  "language_info": {
   "codemirror_mode": {
    "name": "ipython",
    "version": 3
   },
   "file_extension": ".py",
   "mimetype": "text/x-python",
   "name": "python",
   "nbconvert_exporter": "python",
   "pygments_lexer": "ipython3",
   "version": "3.5.2"
  }
 },
 "nbformat": 4,
 "nbformat_minor": 2
}