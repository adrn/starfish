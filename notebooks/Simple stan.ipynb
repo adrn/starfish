{
 "cells": [
  {
   "cell_type": "code",
   "execution_count": null,
   "metadata": {},
   "outputs": [],
   "source": [
    "import os\n",
    "\n",
    "# Third-party\n",
    "from astropy.table import Table\n",
    "import astropy.coordinates as coord\n",
    "from astropy.constants import G as _G\n",
    "import astropy.units as u\n",
    "import matplotlib as mpl\n",
    "import matplotlib.pyplot as plt\n",
    "import numpy as np\n",
    "plt.style.use('apw-notebook')\n",
    "%matplotlib inline\n",
    "from scipy.special import loggamma\n",
    "from gala.units import UnitSystem\n",
    "\n",
    "import pystan\n",
    "from stderr_helper import suppress_stdout_stderr"
   ]
  },
  {
   "cell_type": "markdown",
   "metadata": {},
   "source": [
    "Make some fake data\n",
    "\n",
    "Tracer density:\n",
    "$$\n",
    "\\nu(r) = \\nu_0 \\, r^{-\\gamma} \\\\\n",
    "\\int \\nu(r) \\, r^2 \\, {\\rm d}r\n",
    "$$\n",
    "\n",
    "Background potential is Keplerian\n",
    "$$\n",
    "v_c(r) = \\sqrt{\\frac{G M}{r}}\n",
    "$$\n",
    "\n",
    "I'm going to work in some crazy-ass units:"
   ]
  },
  {
   "cell_type": "code",
   "execution_count": null,
   "metadata": {
    "collapsed": true
   },
   "outputs": [],
   "source": [
    "units = UnitSystem(u.mpc, u.yr, u.Msun, u.rad)\n",
    "G = _G.decompose(units).value"
   ]
  },
  {
   "cell_type": "code",
   "execution_count": null,
   "metadata": {
    "collapsed": true
   },
   "outputs": [],
   "source": [
    "n_data = 512\n",
    "Mbh = 4E6\n",
    "gamma = 3.5\n",
    "a = 2. # mpc\n",
    "b = 1000. # mpc = 1 pc"
   ]
  },
  {
   "cell_type": "code",
   "execution_count": null,
   "metadata": {
    "collapsed": true
   },
   "outputs": [],
   "source": [
    "true_r, true_v = np.load('rv.npy')"
   ]
  },
  {
   "cell_type": "code",
   "execution_count": null,
   "metadata": {
    "collapsed": true
   },
   "outputs": [],
   "source": [
    "n_data = 32\n",
    "\n",
    "r_err = np.full(n_data, 0.01)\n",
    "r = np.random.normal(true_r[:n_data], r_err)\n",
    "\n",
    "v_err = np.full(n_data, 0.01)\n",
    "v = np.random.normal(true_v[:n_data], v_err)"
   ]
  },
  {
   "cell_type": "code",
   "execution_count": null,
   "metadata": {
    "collapsed": true
   },
   "outputs": [],
   "source": [
    "data_dict = dict(r=r, r_err=r_err,\n",
    "                 v=v, v_err=v_err,\n",
    "                 N=n_data)"
   ]
  },
  {
   "cell_type": "code",
   "execution_count": null,
   "metadata": {
    "scrolled": false
   },
   "outputs": [],
   "source": [
    "sm = pystan.StanModel('simple_model.stan')"
   ]
  },
  {
   "cell_type": "code",
   "execution_count": null,
   "metadata": {},
   "outputs": [],
   "source": [
    "n_chains = 1\n",
    "# init_dict = [dict(true_r=r,\n",
    "#                   true_v=v,\n",
    "#                   Mbh=true_Mbh,\n",
    "# #                   phi0=50000.,\n",
    "# #                   gamma=true_gamma\n",
    "#                  )\n",
    "#              for _ in range(n_chains)]\n",
    "\n",
    "# HACK:\n",
    "n_data = 128\n",
    "data_dict = dict(true_r=true_r[:n_data], \n",
    "                 true_v=true_v[:n_data],\n",
    "                 N=n_data)\n",
    "\n",
    "init_dict = [dict(Mbh=Mbh,\n",
    "#                   phi0=50000.,\n",
    "#                   gamma=true_gamma\n",
    "                 )\n",
    "             for _ in range(n_chains)]"
   ]
  },
  {
   "cell_type": "code",
   "execution_count": null,
   "metadata": {
    "collapsed": true
   },
   "outputs": [],
   "source": [
    "fit = sm.sampling(data=data_dict, algorithm='HMC', iter=32, init=init_dict, \n",
    "                  chains=n_chains, n_jobs=1)"
   ]
  },
  {
   "cell_type": "code",
   "execution_count": null,
   "metadata": {
    "collapsed": true
   },
   "outputs": [],
   "source": [
    "with suppress_stdout_stderr():\n",
    "    fit = sm.sampling(data=data_dict, algorithm='HMC', iter=8192, init=init_dict, \n",
    "                      chains=n_chains, n_jobs=1)"
   ]
  },
  {
   "cell_type": "code",
   "execution_count": null,
   "metadata": {},
   "outputs": [],
   "source": [
    "_ = fit.traceplot('Mbh')"
   ]
  },
  {
   "cell_type": "code",
   "execution_count": null,
   "metadata": {
    "collapsed": true
   },
   "outputs": [],
   "source": [
    "plot_pars = ['Mbh']# 'gamma']\n",
    "samples = fit.extract(plot_pars)\n",
    "\n",
    "plt.figure()\n",
    "plt.hist(samples['Mbh'], color='#666666') #, bins=np.logspace(4, 6, 32))\n",
    "plt.axvline(true_Mbh, color='r')\n",
    "# plt.xscale('log')\n",
    "\n",
    "# plt.figure()\n",
    "# plt.hist(samples['a_g'], color='#666666', bins=np.linspace(1, 30, 16))\n",
    "# plt.axvline(true_alpha/true_gamma, color='r')\n",
    "\n",
    "# plt.figure()\n",
    "# plt.hist(samples['gamma'], color='#666666', bins=np.linspace(0, 1, 12))\n",
    "# plt.axvline(true_gamma, color='r')"
   ]
  },
  {
   "cell_type": "code",
   "execution_count": null,
   "metadata": {
    "collapsed": true
   },
   "outputs": [],
   "source": []
  }
 ],
 "metadata": {
  "kernelspec": {
   "display_name": "Python [default]",
   "language": "python",
   "name": "python3"
  },
  "language_info": {
   "codemirror_mode": {
    "name": "ipython",
    "version": 3
   },
   "file_extension": ".py",
   "mimetype": "text/x-python",
   "name": "python",
   "nbconvert_exporter": "python",
   "pygments_lexer": "ipython3",
   "version": "3.6.1"
  }
 },
 "nbformat": 4,
 "nbformat_minor": 2
}